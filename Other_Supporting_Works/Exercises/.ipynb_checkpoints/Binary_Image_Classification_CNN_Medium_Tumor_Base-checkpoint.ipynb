{
 "cells": [
  {
   "cell_type": "code",
   "execution_count": 1,
   "metadata": {},
   "outputs": [],
   "source": [
    "import tensorflow as tf\n",
    "import numpy as np\n",
    "from tensorflow import keras\n",
    "import os\n",
    "import cv2\n",
    "from tensorflow.keras.preprocessing.image import ImageDataGenerator\n",
    "from tensorflow.keras.preprocessing import image\n",
    "import matplotlib.pyplot as plt\n",
    "import time"
   ]
  },
  {
   "cell_type": "code",
   "execution_count": 2,
   "metadata": {},
   "outputs": [
    {
     "data": {
      "text/plain": [
       "['.ipynb_checkpoints',\n",
       " 'Binary_Image_Classification_CNN_Medium_Birds.ipynb',\n",
       " 'Binary_Image_Classification_CNN_Medium_Tumor-Gray_200,200.ipynb',\n",
       " 'Binary_Image_Classification_CNN_Medium_Tumor_Base.ipynb',\n",
       " 'Binary_Image_Classification_CNN_Medium_Tumor_Gray_224,224.ipynb',\n",
       " 'Binary_Image_Classification_CNN_Medium_Tumor_Gray_512,512.ipynb',\n",
       " 'Binary_Image_Classification_CNN_Medium_Tumor_RGB_512,512.ipynb',\n",
       " 'Image_Classification_By_Loading_Own_Data.ipynb',\n",
       " 'image_classification_sample_code.ipynb',\n",
       " 'Image_Classification_Using_Keras_Birds.ipynb',\n",
       " 'Image_Classification_Using_Keras_Cancer.ipynb',\n",
       " 'Keras_Classification.ipynb',\n",
       " 'test_bird',\n",
       " 'test_tumor',\n",
       " 'test_tumor1',\n",
       " 'test_tumor2',\n",
       " 'test_tumor3',\n",
       " 'train_bird',\n",
       " 'train_tumor',\n",
       " 'train_tumor1',\n",
       " 'train_tumor2',\n",
       " 'train_tumor3',\n",
       " 'validation_bird',\n",
       " 'validation_tumor']"
      ]
     },
     "execution_count": 2,
     "metadata": {},
     "output_type": "execute_result"
    }
   ],
   "source": [
    "cwd = os.getcwd()\n",
    "os.listdir(cwd)"
   ]
  },
  {
   "cell_type": "code",
   "execution_count": 3,
   "metadata": {},
   "outputs": [
    {
     "name": "stdout",
     "output_type": "stream",
     "text": [
      "Found 88 images belonging to 2 classes.\n",
      "Found 44 images belonging to 2 classes.\n",
      "Found 22 images belonging to 2 classes.\n"
     ]
    }
   ],
   "source": [
    "train = ImageDataGenerator(rescale=1/255)\n",
    "test = ImageDataGenerator(rescale=1/255)\n",
    "\n",
    "train_dataset = train.flow_from_directory(\"train_tumor\",\n",
    "                                          target_size=(512,512),\n",
    "                                          batch_size = 32,\n",
    "                                          class_mode = 'binary')\n",
    "                                         \n",
    "validation_dataset = test.flow_from_directory(\"validation_tumor\",\n",
    "                                          target_size=(512,512),\n",
    "                                          batch_size =32,\n",
    "                                          class_mode = 'binary')\n",
    "\n",
    "test_dataset = test.flow_from_directory(\"test_tumor\",\n",
    "                                          target_size=(512,512),\n",
    "                                          batch_size =32,\n",
    "                                          class_mode = 'binary')"
   ]
  },
  {
   "cell_type": "code",
   "execution_count": 4,
   "metadata": {},
   "outputs": [
    {
     "data": {
      "text/plain": [
       "{'NoTumor': 0, 'Tumor': 1}"
      ]
     },
     "execution_count": 4,
     "metadata": {},
     "output_type": "execute_result"
    }
   ],
   "source": [
    "validation_dataset.class_indices"
   ]
  },
  {
   "cell_type": "code",
   "execution_count": 5,
   "metadata": {},
   "outputs": [
    {
     "data": {
      "text/plain": [
       "{'NoTumor': 0, 'Tumor': 1}"
      ]
     },
     "execution_count": 5,
     "metadata": {},
     "output_type": "execute_result"
    }
   ],
   "source": [
    "train_dataset.class_indices"
   ]
  },
  {
   "cell_type": "code",
   "execution_count": 6,
   "metadata": {},
   "outputs": [],
   "source": [
    "model = keras.Sequential()\n",
    "\n",
    "# Convolutional layer and maxpool layer 1\n",
    "model.add(keras.layers.Conv2D(32,(3,3),activation='relu',input_shape=(512,512,3)))\n",
    "model.add(keras.layers.MaxPool2D(2,2))\n",
    "\n",
    "# Convolutional layer and maxpool layer 2\n",
    "model.add(keras.layers.Conv2D(64,(3,3),activation='relu'))\n",
    "model.add(keras.layers.MaxPool2D(2,2))\n",
    "\n",
    "# Convolutional layer and maxpool layer 3\n",
    "model.add(keras.layers.Conv2D(128,(3,3),activation='relu'))\n",
    "model.add(keras.layers.MaxPool2D(2,2))\n",
    "\n",
    "# Convolutional layer and maxpool layer 4\n",
    "model.add(keras.layers.Conv2D(128,(3,3),activation='relu'))\n",
    "model.add(keras.layers.MaxPool2D(2,2))\n",
    "\n",
    "# This layer flattens the resulting image array to 1D array\n",
    "model.add(keras.layers.Flatten())\n",
    "\n",
    "# Hidden layer with 512 neurons and Rectified Linear Unit activation function \n",
    "model.add(keras.layers.Dense(512,activation='relu'))\n",
    "\n",
    "# Output layer with single neuron which gives 0 for Cat or 1 for Dog \n",
    "#Here we use sigmoid activation function which makes our model output to lie between 0 and 1\n",
    "model.add(keras.layers.Dense(1,activation='sigmoid'))"
   ]
  },
  {
   "cell_type": "code",
   "execution_count": 7,
   "metadata": {},
   "outputs": [],
   "source": [
    "model.compile(optimizer='adam',loss='binary_crossentropy',metrics=['accuracy'])"
   ]
  },
  {
   "cell_type": "code",
   "execution_count": 13,
   "metadata": {
    "scrolled": false
   },
   "outputs": [
    {
     "name": "stdout",
     "output_type": "stream",
     "text": [
      "Epoch 1/3\n",
      "3/3 [==============================] - 16s 6s/step - loss: 0.4972 - accuracy: 0.8523 - val_loss: 0.4242 - val_accuracy: 0.8636\n",
      "Epoch 2/3\n",
      "3/3 [==============================] - 16s 5s/step - loss: 0.5464 - accuracy: 0.8182 - val_loss: 0.2594 - val_accuracy: 0.8409\n",
      "Epoch 3/3\n",
      "3/3 [==============================] - 16s 5s/step - loss: 0.2440 - accuracy: 0.9659 - val_loss: 0.4548 - val_accuracy: 0.8636\n",
      "49.039737701416016\n"
     ]
    }
   ],
   "source": [
    "#steps_per_epoch = train_imagesize/batch_size\n",
    "start = time.time()\n",
    "\n",
    "model.fit(train_dataset,\n",
    "         epochs = 3, batch_size=10,\n",
    "         validation_data = validation_dataset)\n",
    "\n",
    "end = time.time()\n",
    "print(end - start)"
   ]
  },
  {
   "cell_type": "code",
   "execution_count": 9,
   "metadata": {},
   "outputs": [
    {
     "name": "stdout",
     "output_type": "stream",
     "text": [
      "1/1 [==============================] - 1s 868ms/step - loss: 0.3716 - accuracy: 0.7727\n"
     ]
    },
    {
     "data": {
      "text/plain": [
       "[0.3715533912181854, 0.7727272510528564]"
      ]
     },
     "execution_count": 9,
     "metadata": {},
     "output_type": "execute_result"
    }
   ],
   "source": [
    "model.evaluate(test_dataset)"
   ]
  },
  {
   "cell_type": "code",
   "execution_count": null,
   "metadata": {},
   "outputs": [],
   "source": []
  },
  {
   "cell_type": "code",
   "execution_count": 10,
   "metadata": {},
   "outputs": [
    {
     "data": {
      "text/plain": [
       "'\\n\\n#steps_per_epoch = train_imagesize/batch_size\\n\\nmodel.fit_generator(train_dataset,\\n         steps_per_epoch = 250,\\n         epochs = 10,\\n         validation_data = test_dataset\\n       \\n         )\\n         \\n'"
      ]
     },
     "execution_count": 10,
     "metadata": {},
     "output_type": "execute_result"
    }
   ],
   "source": [
    "\"\"\"\n",
    "\n",
    "#steps_per_epoch = train_imagesize/batch_size\n",
    "\n",
    "model.fit_generator(train_dataset,\n",
    "         steps_per_epoch = 250,\n",
    "         epochs = 10,\n",
    "         validation_data = test_dataset\n",
    "       \n",
    "         )\n",
    "         \n",
    "\"\"\""
   ]
  },
  {
   "cell_type": "code",
   "execution_count": 11,
   "metadata": {
    "scrolled": true
   },
   "outputs": [
    {
     "data": {
      "text/plain": [
       "'\\n\\n# Manually Predicting \\ntest_path = \\'../test_tumor\\'\\nTumor=0\\nNoTumor=0\\nfor i in os.listdir(test_path):\\n    img = image.load_img(test_path + \"//\" +i, target_size=(512,512,3))\\n    plt.imshow(img)\\n    plt.show()\\n    X = image.img_to_array(img)\\n    X = np.expand_dims(X, axis=0)\\n    images = np.vstack([X])\\n    val = model.predict(images)\\n    if val == 0:\\n        NoTumor +=1\\n        print(\\'NoTumor\\')\\n    else:\\n        Tumor +=1\\n        print(\\'Tumor\\')\\nprint(f\\'Tumor: {Tumor}, NoTumor: {NoTumor}\\')\\n\\n\\n'"
      ]
     },
     "execution_count": 11,
     "metadata": {},
     "output_type": "execute_result"
    }
   ],
   "source": [
    "\"\"\"\n",
    "\n",
    "# Manually Predicting \n",
    "test_path = '../test_tumor'\n",
    "Tumor=0\n",
    "NoTumor=0\n",
    "for i in os.listdir(test_path):\n",
    "    img = image.load_img(test_path + \"//\" +i, target_size=(512,512,3))\n",
    "    plt.imshow(img)\n",
    "    plt.show()\n",
    "    X = image.img_to_array(img)\n",
    "    X = np.expand_dims(X, axis=0)\n",
    "    images = np.vstack([X])\n",
    "    val = model.predict(images)\n",
    "    if val == 0:\n",
    "        NoTumor +=1\n",
    "        print('NoTumor')\n",
    "    else:\n",
    "        Tumor +=1\n",
    "        print('Tumor')\n",
    "print(f'Tumor: {Tumor}, NoTumor: {NoTumor}')\n",
    "\n",
    "\n",
    "\"\"\""
   ]
  },
  {
   "cell_type": "code",
   "execution_count": 12,
   "metadata": {},
   "outputs": [
    {
     "data": {
      "text/plain": [
       "'\\n\\ndef predictImage(filename):\\n    img1 = image.load_img(filename,target_size=(224,224))\\n    \\n    plt.imshow(img1)\\n \\n    Y = image.img_to_array(img1)\\n    \\n    X = np.expand_dims(Y,axis=0)\\n    val = model.predict(X)\\n    print(val)\\n    if val == 1:\\n        \\n        plt.xlabel(\"Duck\",fontsize=20)\\n        \\n    \\n    elif val == 0:\\n        \\n        plt.xlabel(\"Bird\",fontsize=20)\\n\\n\\n'"
      ]
     },
     "execution_count": 12,
     "metadata": {},
     "output_type": "execute_result"
    }
   ],
   "source": [
    "\"\"\"\n",
    "\n",
    "def predictImage(filename):\n",
    "    img1 = image.load_img(filename,target_size=(224,224))\n",
    "    \n",
    "    plt.imshow(img1)\n",
    " \n",
    "    Y = image.img_to_array(img1)\n",
    "    \n",
    "    X = np.expand_dims(Y,axis=0)\n",
    "    val = model.predict(X)\n",
    "    print(val)\n",
    "    if val == 1:\n",
    "        \n",
    "        plt.xlabel(\"Duck\",fontsize=20)\n",
    "        \n",
    "    \n",
    "    elif val == 0:\n",
    "        \n",
    "        plt.xlabel(\"Bird\",fontsize=20)\n",
    "\n",
    "\n",
    "\"\"\""
   ]
  }
 ],
 "metadata": {
  "kernelspec": {
   "display_name": "Python 3",
   "language": "python",
   "name": "python3"
  },
  "language_info": {
   "codemirror_mode": {
    "name": "ipython",
    "version": 3
   },
   "file_extension": ".py",
   "mimetype": "text/x-python",
   "name": "python",
   "nbconvert_exporter": "python",
   "pygments_lexer": "ipython3",
   "version": "3.8.5"
  }
 },
 "nbformat": 4,
 "nbformat_minor": 4
}
