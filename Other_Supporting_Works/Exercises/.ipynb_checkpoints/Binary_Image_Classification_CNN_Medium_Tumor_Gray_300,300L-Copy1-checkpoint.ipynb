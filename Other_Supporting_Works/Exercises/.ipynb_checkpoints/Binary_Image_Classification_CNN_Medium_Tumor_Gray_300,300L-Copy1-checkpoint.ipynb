{
 "cells": [
  {
   "cell_type": "code",
   "execution_count": 1,
   "metadata": {},
   "outputs": [],
   "source": [
    "import tensorflow as tf\n",
    "import numpy as np\n",
    "from tensorflow import keras\n",
    "from tensorflow.keras.preprocessing.image import ImageDataGenerator\n",
    "from tensorflow.keras.preprocessing import image\n",
    "import matplotlib.pyplot as plt\n",
    "import matplotlib.pyplot as plt\n",
    "import pandas as pd\n",
    "import os, sys\n",
    "import cv2\n",
    "import PIL\n",
    "import time\n",
    "from skimage import color\n",
    "import os.path\n",
    "from PIL import Image, ImageOps"
   ]
  },
  {
   "cell_type": "code",
   "execution_count": 2,
   "metadata": {},
   "outputs": [],
   "source": [
    "cwd = os.getcwd()\n",
    "# os.listdir(cwd)"
   ]
  },
  {
   "cell_type": "code",
   "execution_count": 3,
   "metadata": {},
   "outputs": [],
   "source": [
    "training_paths = [\"./train_tumor/Tumor/\", \"./train_tumor2/NoTumor/\"]\n",
    "test_paths = [\"./test_tumor/Tumor/\", \"./test_tumor2/NoTumor/\"]"
   ]
  },
  {
   "cell_type": "markdown",
   "metadata": {},
   "source": [
    "# Resizing an saving the training images in same folder with same file name\n",
    "\n",
    "for path in training_paths:\n",
    "    for img_name in os.listdir(path):\n",
    "        f_img = path+img_name\n",
    "        img = Image.open(f_img)\n",
    "        #img_gray = img.convert('L')\n",
    "        img_gray = ImageOps.grayscale(img)\n",
    "        try:\n",
    "            img_gray = img_gray.resize((300,300), PIL.Image.ANTIALIAS)\n",
    "            img_gray.save(f_img, quality=95)\n",
    "        except ValueError:\n",
    "            print(\"There is something wrong\")"
   ]
  },
  {
   "cell_type": "markdown",
   "metadata": {},
   "source": [
    "# Resizing an saving the test images in same folder with same file name\n",
    "\n",
    "for path in test_paths:\n",
    "    for img_name in os.listdir(path):\n",
    "        f_img = path+img_name\n",
    "        img = Image.open(f_img)\n",
    "        #img_gray = img.convert('L')\n",
    "        img_gray = ImageOps.grayscale(img)\n",
    "        try:\n",
    "            img_gray = img_gray.resize((300,300), PIL.Image.ANTIALIAS)\n",
    "            img_gray.save(f_img, quality=95)\n",
    "        except ValueError:\n",
    "            print(\"There is something wrong\")"
   ]
  },
  {
   "cell_type": "code",
   "execution_count": 6,
   "metadata": {},
   "outputs": [
    {
     "name": "stdout",
     "output_type": "stream",
     "text": [
      "Found 88 images belonging to 2 classes.\n",
      "Found 22 images belonging to 2 classes.\n"
     ]
    }
   ],
   "source": [
    "train = ImageDataGenerator(rescale=1/255)\n",
    "test = ImageDataGenerator(rescale=1/255)\n",
    "\n",
    "train_dataset = train.flow_from_directory(\"train_tumor2\",\n",
    "                                          target_size=(300,300),\n",
    "                                          batch_size = 32,\n",
    "                                          class_mode = 'binary', color_mode=\"grayscale\")\n",
    "\n",
    "test_dataset = test.flow_from_directory(\"test_tumor2\",\n",
    "                                          target_size=(300,300),\n",
    "                                          batch_size =32,\n",
    "                                          class_mode = 'binary', color_mode=\"grayscale\")"
   ]
  },
  {
   "cell_type": "code",
   "execution_count": 7,
   "metadata": {},
   "outputs": [
    {
     "data": {
      "text/plain": [
       "{'NoTumor': 0, 'Tumor': 1}"
      ]
     },
     "execution_count": 7,
     "metadata": {},
     "output_type": "execute_result"
    }
   ],
   "source": [
    "test_dataset.class_indices"
   ]
  },
  {
   "cell_type": "code",
   "execution_count": 8,
   "metadata": {},
   "outputs": [
    {
     "data": {
      "text/plain": [
       "{'NoTumor': 0, 'Tumor': 1}"
      ]
     },
     "execution_count": 8,
     "metadata": {},
     "output_type": "execute_result"
    }
   ],
   "source": [
    "train_dataset.class_indices"
   ]
  },
  {
   "cell_type": "code",
   "execution_count": 9,
   "metadata": {},
   "outputs": [],
   "source": [
    "model = keras.Sequential()\n",
    "\n",
    "# Convolutional layer and maxpool layer 1\n",
    "model.add(keras.layers.Conv2D(32,(3,3),activation='relu',input_shape=(300,300,1)))\n",
    "model.add(keras.layers.MaxPool2D(2,2))\n",
    "\n",
    "# Convolutional layer and maxpool layer 2\n",
    "model.add(keras.layers.Conv2D(64,(3,3),activation='relu'))\n",
    "model.add(keras.layers.MaxPool2D(2,2))\n",
    "\n",
    "# Convolutional layer and maxpool layer 3\n",
    "model.add(keras.layers.Conv2D(128,(3,3),activation='relu'))\n",
    "model.add(keras.layers.MaxPool2D(2,2))\n",
    "\n",
    "# Convolutional layer and maxpool layer 4\n",
    "model.add(keras.layers.Conv2D(128,(3,3),activation='relu'))\n",
    "model.add(keras.layers.MaxPool2D(2,2))\n",
    "\n",
    "# This layer flattens the resulting image array to 1D array\n",
    "model.add(keras.layers.Flatten())\n",
    "\n",
    "# Hidden layer with 512 neurons and Rectified Linear Unit activation function \n",
    "model.add(keras.layers.Dense(512,activation='relu'))\n",
    "\n",
    "# Output layer with single neuron which gives 0 for Cat or 1 for Dog \n",
    "#Here we use sigmoid activation function which makes our model output to lie between 0 and 1\n",
    "model.add(keras.layers.Dense(1,activation='sigmoid'))"
   ]
  },
  {
   "cell_type": "code",
   "execution_count": 10,
   "metadata": {},
   "outputs": [],
   "source": [
    "model.compile(optimizer='adam',loss='binary_crossentropy',metrics=['accuracy'])"
   ]
  },
  {
   "cell_type": "markdown",
   "metadata": {
    "scrolled": true
   },
   "source": [
    "#steps_per_epoch = train_imagesize/batch_size\n",
    "\n",
    "start = time.time()\n",
    "\n",
    "model.fit(train_dataset,\n",
    "         epochs = 30, batch_size=10,\n",
    "         validation_data = 0.0  \n",
    "         )\n",
    "\n",
    "end = time.time()\n",
    "print(end - start)"
   ]
  },
  {
   "cell_type": "code",
   "execution_count": null,
   "metadata": {},
   "outputs": [
    {
     "name": "stdout",
     "output_type": "stream",
     "text": [
      "Epoch 1/10\n",
      "3/3 [==============================] - 5s 1s/step - loss: 0.6404 - accuracy: 0.6818\n",
      "Epoch 2/10\n",
      "3/3 [==============================] - 5s 2s/step - loss: 0.3672 - accuracy: 0.8864\n",
      "Epoch 3/10\n",
      "3/3 [==============================] - 5s 2s/step - loss: 0.2963 - accuracy: 0.8636\n",
      "Epoch 4/10\n",
      "3/3 [==============================] - 5s 2s/step - loss: 0.3123 - accuracy: 0.8523\n",
      "Epoch 5/10\n",
      "3/3 [==============================] - 5s 2s/step - loss: 0.2191 - accuracy: 0.9545\n",
      "Epoch 6/10\n",
      "3/3 [==============================] - 5s 2s/step - loss: 0.2083 - accuracy: 0.9545\n",
      "Epoch 7/10\n",
      "3/3 [==============================] - 5s 2s/step - loss: 0.1681 - accuracy: 0.9545\n",
      "Epoch 8/10\n",
      "3/3 [==============================] - 5s 2s/step - loss: 0.0941 - accuracy: 0.9545\n",
      "Epoch 9/10\n",
      "3/3 [==============================] - 5s 2s/step - loss: 0.0741 - accuracy: 0.9773\n",
      "Epoch 10/10\n",
      "3/3 [==============================] - 5s 2s/step - loss: 0.0474 - accuracy: 0.9773\n",
      "1/1 [==============================] - 0s 450ms/step - loss: 0.2577 - accuracy: 0.8182\n",
      "Epoch 1/10\n",
      "3/3 [==============================] - 5s 2s/step - loss: 0.0348 - accuracy: 0.9886\n",
      "Epoch 2/10\n",
      "3/3 [==============================] - 5s 2s/step - loss: 0.0107 - accuracy: 1.0000\n",
      "Epoch 3/10\n",
      "3/3 [==============================] - 5s 2s/step - loss: 0.0054 - accuracy: 1.0000\n",
      "Epoch 4/10\n",
      "3/3 [==============================] - 5s 2s/step - loss: 0.0027 - accuracy: 1.0000\n",
      "Epoch 5/10\n",
      "3/3 [==============================] - 5s 2s/step - loss: 0.0014 - accuracy: 1.0000\n",
      "Epoch 6/10\n",
      "3/3 [==============================] - 5s 2s/step - loss: 0.0013 - accuracy: 1.0000\n",
      "Epoch 7/10\n",
      "3/3 [==============================] - 5s 2s/step - loss: 2.0764e-04 - accuracy: 1.0000\n",
      "Epoch 8/10\n",
      "3/3 [==============================] - 6s 2s/step - loss: 7.9016e-05 - accuracy: 1.0000\n",
      "Epoch 9/10\n",
      "3/3 [==============================] - 5s 2s/step - loss: 2.2851e-05 - accuracy: 1.0000\n",
      "Epoch 10/10\n",
      "3/3 [==============================] - 5s 2s/step - loss: 2.4509e-05 - accuracy: 1.0000\n",
      "1/1 [==============================] - 0s 350ms/step - loss: 0.3216 - accuracy: 0.8182\n",
      "Epoch 1/10\n",
      "3/3 [==============================] - 5s 2s/step - loss: 2.8711e-05 - accuracy: 1.0000\n",
      "Epoch 2/10\n",
      "3/3 [==============================] - 5s 2s/step - loss: 3.0305e-05 - accuracy: 1.0000\n",
      "Epoch 3/10\n",
      "3/3 [==============================] - 5s 2s/step - loss: 2.7638e-05 - accuracy: 1.0000\n",
      "Epoch 4/10\n",
      "3/3 [==============================] - 5s 2s/step - loss: 1.7719e-05 - accuracy: 1.0000\n",
      "Epoch 5/10\n",
      "3/3 [==============================] - 6s 2s/step - loss: 1.3772e-05 - accuracy: 1.0000\n",
      "Epoch 6/10\n",
      "3/3 [==============================] - 5s 2s/step - loss: 8.6031e-06 - accuracy: 1.0000\n",
      "Epoch 7/10\n",
      "2/3 [===================>..........] - ETA: 1s - loss: 6.1651e-06 - accuracy: 1.0000"
     ]
    }
   ],
   "source": [
    "#steps_per_epoch = train_imagesize/batch_size\n",
    "result = 0\n",
    "model_300 = []\n",
    "start = time.time()\n",
    "for i in range(5):\n",
    "    model.fit(train_dataset,\n",
    "             epochs = 10, batch_size=10,\n",
    "             validation_data = 0.0  \n",
    "             )\n",
    "    result = model.evaluate(test_dataset)\n",
    "    model_300.append(result[1])\n",
    "end = time.time()\n",
    "print(end - start)"
   ]
  },
  {
   "cell_type": "code",
   "execution_count": null,
   "metadata": {},
   "outputs": [],
   "source": [
    "print(model_300)\n",
    "print(np.mean(model_300))"
   ]
  },
  {
   "cell_type": "code",
   "execution_count": null,
   "metadata": {},
   "outputs": [],
   "source": []
  },
  {
   "cell_type": "code",
   "execution_count": null,
   "metadata": {},
   "outputs": [],
   "source": [
    "model.evaluate(test_dataset)"
   ]
  },
  {
   "cell_type": "code",
   "execution_count": null,
   "metadata": {},
   "outputs": [],
   "source": [
    "# Predicting single image\n",
    "from skimage import transform\n",
    "def load(filename):\n",
    "    np_image = Image.open(filename)\n",
    "    np_image = np.array(np_image).astype('float32')/255\n",
    "    np_image = transform.resize(np_image, (300, 300, 1))\n",
    "    np_image = np.expand_dims(np_image, axis=0)\n",
    "    return np_image\n",
    "\n",
    "image = load('./test_tumor4/Tumor/Tr-me_0076.jpg')\n",
    "model.predict(image)"
   ]
  },
  {
   "cell_type": "code",
   "execution_count": null,
   "metadata": {},
   "outputs": [],
   "source": [
    "# Predicting single image\n",
    "from skimage import transform\n",
    "def load(filename):\n",
    "    np_image = Image.open(filename)\n",
    "    np_image = np.array(np_image).astype('float32')/255\n",
    "    np_image = transform.resize(np_image, (300, 300, 1))\n",
    "    np_image = np.expand_dims(np_image, axis=0)\n",
    "    return np_image\n",
    "\n",
    "image = load('./test_tumor4/NoTumor/Tr-no_0054.jpg')\n",
    "model.predict(image)"
   ]
  },
  {
   "cell_type": "code",
   "execution_count": null,
   "metadata": {},
   "outputs": [],
   "source": [
    "dd = os.listdir(\"./train_tumor4/Tumor/\")\n",
    "rgb = plt.imread('./train_tumor4/Tumor/Tr-me_0010.jpg')\n",
    "plt.imshow(rgb)"
   ]
  },
  {
   "cell_type": "code",
   "execution_count": null,
   "metadata": {},
   "outputs": [],
   "source": [
    "\"\"\"\n",
    "\n",
    "#steps_per_epoch = train_imagesize/batch_size\n",
    "\n",
    "model.fit_generator(train_dataset,\n",
    "         steps_per_epoch = 250,\n",
    "         epochs = 10,\n",
    "         validation_data = test_dataset\n",
    "       \n",
    "         )\n",
    "         \n",
    "\"\"\""
   ]
  },
  {
   "cell_type": "code",
   "execution_count": null,
   "metadata": {
    "scrolled": true
   },
   "outputs": [],
   "source": [
    "\"\"\"\n",
    "\n",
    "# Manually Predicting \n",
    "test_path = '../test_tumor'\n",
    "Tumor=0\n",
    "NoTumor=0\n",
    "for i in os.listdir(test_path):\n",
    "    img = image.load_img(test_path + \"//\" +i, target_size=(512,512,3))\n",
    "    plt.imshow(img)\n",
    "    plt.show()\n",
    "    X = image.img_to_array(img)\n",
    "    X = np.expand_dims(X, axis=0)\n",
    "    images = np.vstack([X])\n",
    "    val = model.predict(images)\n",
    "    if val == 0:\n",
    "        NoTumor +=1\n",
    "        print('NoTumor')\n",
    "    else:\n",
    "        Tumor +=1\n",
    "        print('Tumor')\n",
    "print(f'Tumor: {Tumor}, NoTumor: {NoTumor}')\n",
    "\n",
    "\n",
    "\"\"\""
   ]
  },
  {
   "cell_type": "code",
   "execution_count": null,
   "metadata": {},
   "outputs": [],
   "source": [
    "\"\"\"\n",
    "\n",
    "def predictImage(filename):\n",
    "    img1 = image.load_img(filename,target_size=(224,224))\n",
    "    \n",
    "    plt.imshow(img1)\n",
    " \n",
    "    Y = image.img_to_array(img1)\n",
    "    \n",
    "    X = np.expand_dims(Y,axis=0)\n",
    "    val = model.predict(X)\n",
    "    print(val)\n",
    "    if val == 1:\n",
    "        \n",
    "        plt.xlabel(\"Duck\",fontsize=20)\n",
    "        \n",
    "    \n",
    "    elif val == 0:\n",
    "        \n",
    "        plt.xlabel(\"Bird\",fontsize=20)\n",
    "\n",
    "\n",
    "\"\"\""
   ]
  }
 ],
 "metadata": {
  "kernelspec": {
   "display_name": "Python 3",
   "language": "python",
   "name": "python3"
  },
  "language_info": {
   "codemirror_mode": {
    "name": "ipython",
    "version": 3
   },
   "file_extension": ".py",
   "mimetype": "text/x-python",
   "name": "python",
   "nbconvert_exporter": "python",
   "pygments_lexer": "ipython3",
   "version": "3.8.5"
  }
 },
 "nbformat": 4,
 "nbformat_minor": 4
}
