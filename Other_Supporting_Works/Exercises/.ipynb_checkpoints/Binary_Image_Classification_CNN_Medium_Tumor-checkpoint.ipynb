{
 "cells": [
  {
   "cell_type": "code",
   "execution_count": 1,
   "metadata": {},
   "outputs": [],
   "source": [
    "import tensorflow as tf\n",
    "import numpy as np\n",
    "from tensorflow import keras\n",
    "import os\n",
    "import cv2\n",
    "from tensorflow.keras.preprocessing.image import ImageDataGenerator\n",
    "from tensorflow.keras.preprocessing import image\n",
    "import matplotlib.pyplot as plt"
   ]
  },
  {
   "cell_type": "code",
   "execution_count": 2,
   "metadata": {},
   "outputs": [],
   "source": [
    "DATADIR_TRAIN = \"../train_bird\"\n",
    "DATADIR_VALID = \"../validation_bird\"\n",
    "DATADIR_TEST = \"../test_bird\"\n",
    "CATEGORIES = [\"bird\", \"duck\"]"
   ]
  },
  {
   "cell_type": "code",
   "execution_count": 11,
   "metadata": {},
   "outputs": [
    {
     "name": "stdout",
     "output_type": "stream",
     "text": [
      "Found 88 images belonging to 2 classes.\n",
      "Found 44 images belonging to 2 classes.\n",
      "Found 22 images belonging to 2 classes.\n"
     ]
    }
   ],
   "source": [
    "train = ImageDataGenerator(rescale=1/255)\n",
    "test = ImageDataGenerator(rescale=1/255)\n",
    "\n",
    "train_dataset = train.flow_from_directory(\"../train_tumor\",\n",
    "                                          target_size=(512,512),\n",
    "                                          batch_size = 32,\n",
    "                                          class_mode = 'binary')\n",
    "                                         \n",
    "validation_dataset = test.flow_from_directory(\"../validation_tumor\",\n",
    "                                          target_size=(512,512),\n",
    "                                          batch_size =32,\n",
    "                                          class_mode = 'binary')\n",
    "\n",
    "test_dataset = test.flow_from_directory(\"../test_tumor\",\n",
    "                                          target_size=(512,512),\n",
    "                                          batch_size =32,\n",
    "                                          class_mode = 'binary')"
   ]
  },
  {
   "cell_type": "code",
   "execution_count": 4,
   "metadata": {},
   "outputs": [
    {
     "data": {
      "text/plain": [
       "{'NoTumor': 0, 'Tumor': 1}"
      ]
     },
     "execution_count": 4,
     "metadata": {},
     "output_type": "execute_result"
    }
   ],
   "source": [
    "validation_dataset.class_indices"
   ]
  },
  {
   "cell_type": "code",
   "execution_count": 5,
   "metadata": {},
   "outputs": [
    {
     "data": {
      "text/plain": [
       "{'NoTumor': 0, 'Tumor': 1}"
      ]
     },
     "execution_count": 5,
     "metadata": {},
     "output_type": "execute_result"
    }
   ],
   "source": [
    "train_dataset.class_indices"
   ]
  },
  {
   "cell_type": "code",
   "execution_count": 6,
   "metadata": {},
   "outputs": [],
   "source": [
    "model = keras.Sequential()\n",
    "\n",
    "# Convolutional layer and maxpool layer 1\n",
    "model.add(keras.layers.Conv2D(32,(3,3),activation='relu',input_shape=(512,512,3)))\n",
    "model.add(keras.layers.MaxPool2D(2,2))\n",
    "\n",
    "# Convolutional layer and maxpool layer 2\n",
    "model.add(keras.layers.Conv2D(64,(3,3),activation='relu'))\n",
    "model.add(keras.layers.MaxPool2D(2,2))\n",
    "\n",
    "# Convolutional layer and maxpool layer 3\n",
    "model.add(keras.layers.Conv2D(128,(3,3),activation='relu'))\n",
    "model.add(keras.layers.MaxPool2D(2,2))\n",
    "\n",
    "# Convolutional layer and maxpool layer 4\n",
    "model.add(keras.layers.Conv2D(128,(3,3),activation='relu'))\n",
    "model.add(keras.layers.MaxPool2D(2,2))\n",
    "\n",
    "# This layer flattens the resulting image array to 1D array\n",
    "model.add(keras.layers.Flatten())\n",
    "\n",
    "# Hidden layer with 512 neurons and Rectified Linear Unit activation function \n",
    "model.add(keras.layers.Dense(512,activation='relu'))\n",
    "\n",
    "# Output layer with single neuron which gives 0 for Cat or 1 for Dog \n",
    "#Here we use sigmoid activation function which makes our model output to lie between 0 and 1\n",
    "model.add(keras.layers.Dense(1,activation='sigmoid'))"
   ]
  },
  {
   "cell_type": "code",
   "execution_count": 7,
   "metadata": {},
   "outputs": [],
   "source": [
    "model.compile(optimizer='adam',loss='binary_crossentropy',metrics=['accuracy'])"
   ]
  },
  {
   "cell_type": "code",
   "execution_count": 14,
   "metadata": {
    "scrolled": false
   },
   "outputs": [
    {
     "name": "stdout",
     "output_type": "stream",
     "text": [
      "Epoch 1/25\n",
      "3/3 [==============================] - 16s 6s/step - loss: 0.0157 - accuracy: 1.0000 - val_loss: 0.5427 - val_accuracy: 0.8864\n",
      "Epoch 2/25\n",
      "3/3 [==============================] - 16s 5s/step - loss: 0.0157 - accuracy: 0.9886 - val_loss: 0.9039 - val_accuracy: 0.8409\n",
      "Epoch 3/25\n",
      "3/3 [==============================] - 16s 6s/step - loss: 0.0187 - accuracy: 1.0000 - val_loss: 0.5576 - val_accuracy: 0.8636\n",
      "Epoch 4/25\n",
      "3/3 [==============================] - 16s 5s/step - loss: 0.0037 - accuracy: 1.0000 - val_loss: 0.2554 - val_accuracy: 0.9091\n",
      "Epoch 5/25\n",
      "3/3 [==============================] - 16s 5s/step - loss: 0.0018 - accuracy: 1.0000 - val_loss: 0.3215 - val_accuracy: 0.9091\n",
      "Epoch 6/25\n",
      "3/3 [==============================] - 16s 6s/step - loss: 2.7382e-04 - accuracy: 1.0000 - val_loss: 0.4572 - val_accuracy: 0.9091\n",
      "Epoch 7/25\n",
      "3/3 [==============================] - 17s 6s/step - loss: 7.3518e-05 - accuracy: 1.0000 - val_loss: 0.6042 - val_accuracy: 0.8864\n",
      "Epoch 8/25\n",
      "3/3 [==============================] - 17s 5s/step - loss: 5.0798e-05 - accuracy: 1.0000 - val_loss: 0.7442 - val_accuracy: 0.8636\n",
      "Epoch 9/25\n",
      "3/3 [==============================] - 17s 6s/step - loss: 4.5348e-05 - accuracy: 1.0000 - val_loss: 0.8755 - val_accuracy: 0.8636\n",
      "Epoch 10/25\n",
      "3/3 [==============================] - 17s 6s/step - loss: 3.2431e-05 - accuracy: 1.0000 - val_loss: 0.9937 - val_accuracy: 0.8636\n",
      "Epoch 11/25\n",
      "3/3 [==============================] - 17s 6s/step - loss: 2.3131e-05 - accuracy: 1.0000 - val_loss: 1.1008 - val_accuracy: 0.8409\n",
      "Epoch 12/25\n",
      "3/3 [==============================] - 17s 6s/step - loss: 1.4723e-05 - accuracy: 1.0000 - val_loss: 1.1947 - val_accuracy: 0.8409\n",
      "Epoch 13/25\n",
      "3/3 [==============================] - 18s 7s/step - loss: 8.0435e-06 - accuracy: 1.0000 - val_loss: 1.2721 - val_accuracy: 0.8409\n",
      "Epoch 14/25\n",
      "3/3 [==============================] - 17s 7s/step - loss: 4.8657e-06 - accuracy: 1.0000 - val_loss: 1.3355 - val_accuracy: 0.8409\n",
      "Epoch 15/25\n",
      "3/3 [==============================] - 18s 6s/step - loss: 2.9236e-06 - accuracy: 1.0000 - val_loss: 1.3859 - val_accuracy: 0.8409\n",
      "Epoch 16/25\n",
      "3/3 [==============================] - 19s 6s/step - loss: 1.9900e-06 - accuracy: 1.0000 - val_loss: 1.4246 - val_accuracy: 0.8409\n",
      "Epoch 17/25\n",
      "3/3 [==============================] - 19s 6s/step - loss: 1.5500e-06 - accuracy: 1.0000 - val_loss: 1.4533 - val_accuracy: 0.8409\n",
      "Epoch 18/25\n",
      "3/3 [==============================] - 18s 7s/step - loss: 1.2911e-06 - accuracy: 1.0000 - val_loss: 1.4731 - val_accuracy: 0.8636\n",
      "Epoch 19/25\n",
      "3/3 [==============================] - 17s 6s/step - loss: 1.1712e-06 - accuracy: 1.0000 - val_loss: 1.4878 - val_accuracy: 0.8636\n",
      "Epoch 20/25\n",
      "3/3 [==============================] - 19s 7s/step - loss: 1.0998e-06 - accuracy: 1.0000 - val_loss: 1.4954 - val_accuracy: 0.8636\n",
      "Epoch 21/25\n",
      "3/3 [==============================] - 18s 7s/step - loss: 1.0623e-06 - accuracy: 1.0000 - val_loss: 1.4989 - val_accuracy: 0.8636\n",
      "Epoch 22/25\n",
      "3/3 [==============================] - 20s 8s/step - loss: 1.0417e-06 - accuracy: 1.0000 - val_loss: 1.4989 - val_accuracy: 0.8636\n",
      "Epoch 23/25\n",
      "3/3 [==============================] - 19s 6s/step - loss: 1.0139e-06 - accuracy: 1.0000 - val_loss: 1.4973 - val_accuracy: 0.8636\n",
      "Epoch 24/25\n",
      "3/3 [==============================] - 18s 7s/step - loss: 9.9848e-07 - accuracy: 1.0000 - val_loss: 1.4946 - val_accuracy: 0.8636\n",
      "Epoch 25/25\n",
      "3/3 [==============================] - 20s 7s/step - loss: 9.7816e-07 - accuracy: 1.0000 - val_loss: 1.4903 - val_accuracy: 0.8636\n"
     ]
    },
    {
     "data": {
      "text/plain": [
       "<keras.callbacks.History at 0x249cfea3970>"
      ]
     },
     "execution_count": 14,
     "metadata": {},
     "output_type": "execute_result"
    }
   ],
   "source": [
    "#steps_per_epoch = train_imagesize/batch_size\n",
    "\n",
    "model.fit(train_dataset,\n",
    "         epochs = 25, batch_size=10,\n",
    "         validation_data = validation_dataset  \n",
    "         )"
   ]
  },
  {
   "cell_type": "code",
   "execution_count": null,
   "metadata": {},
   "outputs": [],
   "source": [
    "\"\"\"\n",
    "\n",
    "#steps_per_epoch = train_imagesize/batch_size\n",
    "\n",
    "model.fit_generator(train_dataset,\n",
    "         steps_per_epoch = 250,\n",
    "         epochs = 10,\n",
    "         validation_data = test_dataset\n",
    "       \n",
    "         )\n",
    "         \n",
    "\"\"\""
   ]
  },
  {
   "cell_type": "code",
   "execution_count": 16,
   "metadata": {
    "scrolled": true
   },
   "outputs": [
    {
     "data": {
      "text/plain": [
       "'\\n\\n# Manually Predicting \\ntest_path = \\'../test_tumor\\'\\nTumor=0\\nNoTumor=0\\nfor i in os.listdir(test_path):\\n    img = image.load_img(test_path + \"//\" +i, target_size=(512,512,3))\\n    plt.imshow(img)\\n    plt.show()\\n    X = image.img_to_array(img)\\n    X = np.expand_dims(X, axis=0)\\n    images = np.vstack([X])\\n    val = model.predict(images)\\n    if val == 0:\\n        NoTumor +=1\\n        print(\\'NoTumor\\')\\n    else:\\n        Tumor +=1\\n        print(\\'Tumor\\')\\nprint(f\\'Tumor: {Tumor}, NoTumor: {NoTumor}\\')\\n\\n\\n'"
      ]
     },
     "execution_count": 16,
     "metadata": {},
     "output_type": "execute_result"
    }
   ],
   "source": [
    "\"\"\"\n",
    "\n",
    "# Manually Predicting \n",
    "test_path = '../test_tumor'\n",
    "Tumor=0\n",
    "NoTumor=0\n",
    "for i in os.listdir(test_path):\n",
    "    img = image.load_img(test_path + \"//\" +i, target_size=(512,512,3))\n",
    "    plt.imshow(img)\n",
    "    plt.show()\n",
    "    X = image.img_to_array(img)\n",
    "    X = np.expand_dims(X, axis=0)\n",
    "    images = np.vstack([X])\n",
    "    val = model.predict(images)\n",
    "    if val == 0:\n",
    "        NoTumor +=1\n",
    "        print('NoTumor')\n",
    "    else:\n",
    "        Tumor +=1\n",
    "        print('Tumor')\n",
    "print(f'Tumor: {Tumor}, NoTumor: {NoTumor}')\n",
    "\n",
    "\n",
    "\"\"\""
   ]
  },
  {
   "cell_type": "code",
   "execution_count": 17,
   "metadata": {},
   "outputs": [
    {
     "data": {
      "text/plain": [
       "'\\n\\ndef predictImage(filename):\\n    img1 = image.load_img(filename,target_size=(224,224))\\n    \\n    plt.imshow(img1)\\n \\n    Y = image.img_to_array(img1)\\n    \\n    X = np.expand_dims(Y,axis=0)\\n    val = model.predict(X)\\n    print(val)\\n    if val == 1:\\n        \\n        plt.xlabel(\"Duck\",fontsize=20)\\n        \\n    \\n    elif val == 0:\\n        \\n        plt.xlabel(\"Bird\",fontsize=20)\\n\\n\\n'"
      ]
     },
     "execution_count": 17,
     "metadata": {},
     "output_type": "execute_result"
    }
   ],
   "source": [
    "\"\"\"\n",
    "\n",
    "def predictImage(filename):\n",
    "    img1 = image.load_img(filename,target_size=(224,224))\n",
    "    \n",
    "    plt.imshow(img1)\n",
    " \n",
    "    Y = image.img_to_array(img1)\n",
    "    \n",
    "    X = np.expand_dims(Y,axis=0)\n",
    "    val = model.predict(X)\n",
    "    print(val)\n",
    "    if val == 1:\n",
    "        \n",
    "        plt.xlabel(\"Duck\",fontsize=20)\n",
    "        \n",
    "    \n",
    "    elif val == 0:\n",
    "        \n",
    "        plt.xlabel(\"Bird\",fontsize=20)\n",
    "\n",
    "\n",
    "\"\"\""
   ]
  },
  {
   "cell_type": "markdown",
   "metadata": {},
   "source": [
    "predictImage(file_directory)"
   ]
  },
  {
   "cell_type": "code",
   "execution_count": 20,
   "metadata": {},
   "outputs": [
    {
     "name": "stdout",
     "output_type": "stream",
     "text": [
      "1/1 [==============================] - 1s 849ms/step - loss: 2.1041 - accuracy: 0.8182\n"
     ]
    },
    {
     "data": {
      "text/plain": [
       "[2.1040685176849365, 0.8181818127632141]"
      ]
     },
     "execution_count": 20,
     "metadata": {},
     "output_type": "execute_result"
    }
   ],
   "source": [
    "model.evaluate(test_dataset)"
   ]
  },
  {
   "cell_type": "code",
   "execution_count": null,
   "metadata": {},
   "outputs": [],
   "source": []
  },
  {
   "cell_type": "code",
   "execution_count": null,
   "metadata": {},
   "outputs": [],
   "source": []
  },
  {
   "cell_type": "code",
   "execution_count": null,
   "metadata": {},
   "outputs": [],
   "source": []
  },
  {
   "cell_type": "code",
   "execution_count": null,
   "metadata": {},
   "outputs": [],
   "source": []
  }
 ],
 "metadata": {
  "kernelspec": {
   "display_name": "Python 3",
   "language": "python",
   "name": "python3"
  },
  "language_info": {
   "codemirror_mode": {
    "name": "ipython",
    "version": 3
   },
   "file_extension": ".py",
   "mimetype": "text/x-python",
   "name": "python",
   "nbconvert_exporter": "python",
   "pygments_lexer": "ipython3",
   "version": "3.8.5"
  }
 },
 "nbformat": 4,
 "nbformat_minor": 4
}
