{
 "cells": [
  {
   "cell_type": "code",
   "execution_count": 1,
   "metadata": {},
   "outputs": [],
   "source": [
    "import tensorflow as tf\n",
    "import numpy as np\n",
    "from tensorflow import keras\n",
    "from tensorflow.keras.preprocessing.image import ImageDataGenerator\n",
    "from tensorflow.keras.preprocessing import image\n",
    "import matplotlib.pyplot as plt\n",
    "import matplotlib.pyplot as plt\n",
    "import pandas as pd\n",
    "import os, sys\n",
    "import cv2\n",
    "import PIL\n",
    "import time\n",
    "from skimage import color\n",
    "import os.path\n",
    "from PIL import Image, ImageOps"
   ]
  },
  {
   "cell_type": "code",
   "execution_count": 2,
   "metadata": {},
   "outputs": [],
   "source": [
    "cwd = os.getcwd()\n",
    "# os.listdir(cwd)"
   ]
  },
  {
   "cell_type": "code",
   "execution_count": 3,
   "metadata": {},
   "outputs": [],
   "source": [
    "training_paths = [\"./train_tumor/Tumor/\", \"./train_tumor3/NoTumor/\"]\n",
    "test_paths = [\"./test_tumor/Tumor/\", \"./test_tumor3/NoTumor/\"]"
   ]
  },
  {
   "cell_type": "code",
   "execution_count": 4,
   "metadata": {},
   "outputs": [],
   "source": [
    "# Resizing an saving the training images in same folder with same file name\n",
    "\n",
    "for path in training_paths:\n",
    "    for img_name in os.listdir(path):\n",
    "        f_img = path+img_name\n",
    "        img = Image.open(f_img)\n",
    "        img_gray = img.convert('L')\n",
    "        try:\n",
    "            img_gray = img_gray.resize((224,224), PIL.Image.ANTIALIAS)\n",
    "            img_gray.save(f_img, quality=95)\n",
    "        except ValueError:\n",
    "            print(\"There is something wrong\")"
   ]
  },
  {
   "cell_type": "code",
   "execution_count": 5,
   "metadata": {},
   "outputs": [],
   "source": [
    "# Resizing an saving the test images in same folder with same file name\n",
    "\n",
    "for path in test_paths:\n",
    "    for img_name in os.listdir(path):\n",
    "        f_img = path+img_name\n",
    "        img = Image.open(f_img)\n",
    "        img_gray = img.convert('L')\n",
    "        try:\n",
    "            img_gray = img_gray.resize((224,224), PIL.Image.ANTIALIAS)\n",
    "            img_gray.save(f_img, quality=95)\n",
    "        except ValueError:\n",
    "            print(\"There is something wrong\")"
   ]
  },
  {
   "cell_type": "code",
   "execution_count": 6,
   "metadata": {},
   "outputs": [
    {
     "name": "stdout",
     "output_type": "stream",
     "text": [
      "Found 88 images belonging to 2 classes.\n",
      "Found 22 images belonging to 2 classes.\n"
     ]
    }
   ],
   "source": [
    "train = ImageDataGenerator(rescale=1/255)\n",
    "test = ImageDataGenerator(rescale=1/255)\n",
    "\n",
    "train_dataset = train.flow_from_directory(\"train_tumor3\",\n",
    "                                          target_size=(224,224),\n",
    "                                          batch_size = 32,\n",
    "                                          class_mode = 'binary', color_mode=\"grayscale\")\n",
    "                                         \n",
    "\n",
    "test_dataset = test.flow_from_directory(\"test_tumor3\",\n",
    "                                          target_size=(224,224),\n",
    "                                          batch_size =32,\n",
    "                                          class_mode = 'binary', color_mode=\"grayscale\")"
   ]
  },
  {
   "cell_type": "code",
   "execution_count": 7,
   "metadata": {},
   "outputs": [
    {
     "data": {
      "text/plain": [
       "{'NoTumor': 0, 'Tumor': 1}"
      ]
     },
     "execution_count": 7,
     "metadata": {},
     "output_type": "execute_result"
    }
   ],
   "source": [
    "test_dataset.class_indices"
   ]
  },
  {
   "cell_type": "code",
   "execution_count": 8,
   "metadata": {},
   "outputs": [
    {
     "data": {
      "text/plain": [
       "{'NoTumor': 0, 'Tumor': 1}"
      ]
     },
     "execution_count": 8,
     "metadata": {},
     "output_type": "execute_result"
    }
   ],
   "source": [
    "train_dataset.class_indices"
   ]
  },
  {
   "cell_type": "code",
   "execution_count": 9,
   "metadata": {},
   "outputs": [],
   "source": [
    "model = keras.Sequential()\n",
    "\n",
    "# Convolutional layer and maxpool layer 1\n",
    "model.add(keras.layers.Conv2D(32,(3,3),activation='relu',input_shape=(224,224,1)))\n",
    "model.add(keras.layers.MaxPool2D(2,2))\n",
    "\n",
    "# Convolutional layer and maxpool layer 2\n",
    "model.add(keras.layers.Conv2D(64,(3,3),activation='relu'))\n",
    "model.add(keras.layers.MaxPool2D(2,2))\n",
    "\n",
    "# Convolutional layer and maxpool layer 3\n",
    "model.add(keras.layers.Conv2D(128,(3,3),activation='relu'))\n",
    "model.add(keras.layers.MaxPool2D(2,2))\n",
    "\n",
    "# Convolutional layer and maxpool layer 4\n",
    "model.add(keras.layers.Conv2D(128,(3,3),activation='relu'))\n",
    "model.add(keras.layers.MaxPool2D(2,2))\n",
    "\n",
    "# This layer flattens the resulting image array to 1D array\n",
    "model.add(keras.layers.Flatten())\n",
    "\n",
    "# Hidden layer with 512 neurons and Rectified Linear Unit activation function \n",
    "model.add(keras.layers.Dense(512,activation='relu'))\n",
    "\n",
    "# Output layer with single neuron which gives 0 for Cat or 1 for Dog \n",
    "#Here we use sigmoid activation function which makes our model output to lie between 0 and 1\n",
    "model.add(keras.layers.Dense(1,activation='sigmoid'))"
   ]
  },
  {
   "cell_type": "code",
   "execution_count": 10,
   "metadata": {},
   "outputs": [],
   "source": [
    "model.compile(optimizer='adam',loss='binary_crossentropy',metrics=['accuracy'])"
   ]
  },
  {
   "cell_type": "code",
   "execution_count": 11,
   "metadata": {
    "scrolled": true
   },
   "outputs": [
    {
     "name": "stdout",
     "output_type": "stream",
     "text": [
      "Epoch 1/30\n",
      "3/3 [==============================] - 3s 939ms/step - loss: 0.8007 - accuracy: 0.5114\n",
      "Epoch 2/30\n",
      "3/3 [==============================] - 3s 793ms/step - loss: 0.5325 - accuracy: 0.7386\n",
      "Epoch 3/30\n",
      "3/3 [==============================] - 2s 885ms/step - loss: 0.3628 - accuracy: 0.8864\n",
      "Epoch 4/30\n",
      "3/3 [==============================] - 3s 923ms/step - loss: 0.3303 - accuracy: 0.8977\n",
      "Epoch 5/30\n",
      "3/3 [==============================] - 3s 951ms/step - loss: 0.2544 - accuracy: 0.9091\n",
      "Epoch 6/30\n",
      "3/3 [==============================] - 3s 807ms/step - loss: 0.2841 - accuracy: 0.9091\n",
      "Epoch 7/30\n",
      "3/3 [==============================] - 3s 790ms/step - loss: 0.2058 - accuracy: 0.9545\n",
      "Epoch 8/30\n",
      "3/3 [==============================] - 3s 884ms/step - loss: 0.2166 - accuracy: 0.9205\n",
      "Epoch 9/30\n",
      "3/3 [==============================] - 3s 936ms/step - loss: 0.1738 - accuracy: 0.9545\n",
      "Epoch 10/30\n",
      "3/3 [==============================] - 3s 925ms/step - loss: 0.1640 - accuracy: 0.9432\n",
      "Epoch 11/30\n",
      "3/3 [==============================] - 3s 884ms/step - loss: 0.1156 - accuracy: 0.9659\n",
      "Epoch 12/30\n",
      "3/3 [==============================] - 3s 843ms/step - loss: 0.1021 - accuracy: 0.9545\n",
      "Epoch 13/30\n",
      "3/3 [==============================] - 3s 778ms/step - loss: 0.0486 - accuracy: 0.9773\n",
      "Epoch 14/30\n",
      "3/3 [==============================] - 3s 791ms/step - loss: 0.0420 - accuracy: 0.9886\n",
      "Epoch 15/30\n",
      "3/3 [==============================] - 3s 897ms/step - loss: 0.0345 - accuracy: 0.9886\n",
      "Epoch 16/30\n",
      "3/3 [==============================] - 3s 860ms/step - loss: 0.0132 - accuracy: 1.0000\n",
      "Epoch 17/30\n",
      "3/3 [==============================] - 3s 815ms/step - loss: 0.0072 - accuracy: 1.0000\n",
      "Epoch 18/30\n",
      "3/3 [==============================] - 3s 872ms/step - loss: 0.0046 - accuracy: 1.0000\n",
      "Epoch 19/30\n",
      "3/3 [==============================] - 3s 819ms/step - loss: 0.0019 - accuracy: 1.0000\n",
      "Epoch 20/30\n",
      "3/3 [==============================] - 3s 781ms/step - loss: 0.0013 - accuracy: 1.0000\n",
      "Epoch 21/30\n",
      "3/3 [==============================] - 3s 889ms/step - loss: 4.4481e-04 - accuracy: 1.0000\n",
      "Epoch 22/30\n",
      "3/3 [==============================] - 3s 796ms/step - loss: 1.7765e-04 - accuracy: 1.0000\n",
      "Epoch 23/30\n",
      "3/3 [==============================] - 3s 964ms/step - loss: 2.5607e-04 - accuracy: 1.0000\n",
      "Epoch 24/30\n",
      "3/3 [==============================] - 3s 907ms/step - loss: 2.6610e-04 - accuracy: 1.0000\n",
      "Epoch 25/30\n",
      "3/3 [==============================] - 3s 831ms/step - loss: 1.9310e-04 - accuracy: 1.0000\n",
      "Epoch 26/30\n",
      "3/3 [==============================] - 3s 792ms/step - loss: 1.0188e-04 - accuracy: 1.0000\n",
      "Epoch 27/30\n",
      "3/3 [==============================] - 3s 795ms/step - loss: 5.5770e-05 - accuracy: 1.0000\n",
      "Epoch 28/30\n",
      "3/3 [==============================] - 3s 783ms/step - loss: 4.7606e-05 - accuracy: 1.0000\n",
      "Epoch 29/30\n",
      "3/3 [==============================] - 3s 823ms/step - loss: 4.5798e-05 - accuracy: 1.0000\n",
      "Epoch 30/30\n",
      "3/3 [==============================] - 3s 843ms/step - loss: 4.5015e-05 - accuracy: 1.0000\n",
      "80.4402973651886\n"
     ]
    }
   ],
   "source": [
    "#steps_per_epoch = train_imagesize/batch_size\n",
    "\n",
    "start = time.time()\n",
    "\n",
    "model.fit(train_dataset,\n",
    "         epochs = 30, batch_size=10,\n",
    "         validation_data = 0.0  \n",
    "         )\n",
    "\n",
    "end = time.time()\n",
    "print(end - start)"
   ]
  },
  {
   "cell_type": "code",
   "execution_count": 12,
   "metadata": {},
   "outputs": [
    {
     "name": "stdout",
     "output_type": "stream",
     "text": [
      "1/1 [==============================] - 0s 339ms/step - loss: 0.0035 - accuracy: 1.0000\n"
     ]
    },
    {
     "data": {
      "text/plain": [
       "[0.0035082511603832245, 1.0]"
      ]
     },
     "execution_count": 12,
     "metadata": {},
     "output_type": "execute_result"
    }
   ],
   "source": [
    "model.evaluate(test_dataset)"
   ]
  },
  {
   "cell_type": "code",
   "execution_count": null,
   "metadata": {},
   "outputs": [],
   "source": []
  },
  {
   "cell_type": "code",
   "execution_count": 13,
   "metadata": {},
   "outputs": [
    {
     "data": {
      "text/plain": [
       "<matplotlib.image.AxesImage at 0x1f63ee41ac0>"
      ]
     },
     "execution_count": 13,
     "metadata": {},
     "output_type": "execute_result"
    },
    {
     "data": {
      "image/png": "[encoded data removed]",
      "text/plain": [
       "<Figure size 432x288 with 1 Axes>"
      ]
     },
     "metadata": {
      "needs_background": "light"
     },
     "output_type": "display_data"
    }
   ],
   "source": [
    "dd = os.listdir(\"./train_tumor/Tumor/\")\n",
    "rgb = plt.imread('./train_tumor/Tumor/Tr-me_0010.jpg')\n",
    "plt.imshow(rgb)"
   ]
  },
  {
   "cell_type": "code",
   "execution_count": 14,
   "metadata": {},
   "outputs": [
    {
     "data": {
      "text/plain": [
       "'\\n\\n#steps_per_epoch = train_imagesize/batch_size\\n\\nmodel.fit_generator(train_dataset,\\n         steps_per_epoch = 250,\\n         epochs = 10,\\n         validation_data = test_dataset\\n       \\n         )\\n         \\n'"
      ]
     },
     "execution_count": 14,
     "metadata": {},
     "output_type": "execute_result"
    }
   ],
   "source": [
    "\"\"\"\n",
    "\n",
    "#steps_per_epoch = train_imagesize/batch_size\n",
    "\n",
    "model.fit_generator(train_dataset,\n",
    "         steps_per_epoch = 250,\n",
    "         epochs = 10,\n",
    "         validation_data = test_dataset\n",
    "       \n",
    "         )\n",
    "         \n",
    "\"\"\""
   ]
  },
  {
   "cell_type": "code",
   "execution_count": 15,
   "metadata": {
    "scrolled": true
   },
   "outputs": [
    {
     "data": {
      "text/plain": [
       "'\\n\\n# Manually Predicting \\ntest_path = \\'../test_tumor\\'\\nTumor=0\\nNoTumor=0\\nfor i in os.listdir(test_path):\\n    img = image.load_img(test_path + \"//\" +i, target_size=(512,512,3))\\n    plt.imshow(img)\\n    plt.show()\\n    X = image.img_to_array(img)\\n    X = np.expand_dims(X, axis=0)\\n    images = np.vstack([X])\\n    val = model.predict(images)\\n    if val == 0:\\n        NoTumor +=1\\n        print(\\'NoTumor\\')\\n    else:\\n        Tumor +=1\\n        print(\\'Tumor\\')\\nprint(f\\'Tumor: {Tumor}, NoTumor: {NoTumor}\\')\\n\\n\\n'"
      ]
     },
     "execution_count": 15,
     "metadata": {},
     "output_type": "execute_result"
    }
   ],
   "source": [
    "\"\"\"\n",
    "\n",
    "# Manually Predicting \n",
    "test_path = '../test_tumor'\n",
    "Tumor=0\n",
    "NoTumor=0\n",
    "for i in os.listdir(test_path):\n",
    "    img = image.load_img(test_path + \"//\" +i, target_size=(512,512,3))\n",
    "    plt.imshow(img)\n",
    "    plt.show()\n",
    "    X = image.img_to_array(img)\n",
    "    X = np.expand_dims(X, axis=0)\n",
    "    images = np.vstack([X])\n",
    "    val = model.predict(images)\n",
    "    if val == 0:\n",
    "        NoTumor +=1\n",
    "        print('NoTumor')\n",
    "    else:\n",
    "        Tumor +=1\n",
    "        print('Tumor')\n",
    "print(f'Tumor: {Tumor}, NoTumor: {NoTumor}')\n",
    "\n",
    "\n",
    "\"\"\""
   ]
  },
  {
   "cell_type": "code",
   "execution_count": 16,
   "metadata": {},
   "outputs": [
    {
     "data": {
      "text/plain": [
       "'\\n\\ndef predictImage(filename):\\n    img1 = image.load_img(filename,target_size=(224,224))\\n    \\n    plt.imshow(img1)\\n \\n    Y = image.img_to_array(img1)\\n    \\n    X = np.expand_dims(Y,axis=0)\\n    val = model.predict(X)\\n    print(val)\\n    if val == 1:\\n        \\n        plt.xlabel(\"Duck\",fontsize=20)\\n        \\n    \\n    elif val == 0:\\n        \\n        plt.xlabel(\"Bird\",fontsize=20)\\n\\n\\n'"
      ]
     },
     "execution_count": 16,
     "metadata": {},
     "output_type": "execute_result"
    }
   ],
   "source": [
    "\"\"\"\n",
    "\n",
    "def predictImage(filename):\n",
    "    img1 = image.load_img(filename,target_size=(224,224))\n",
    "    \n",
    "    plt.imshow(img1)\n",
    " \n",
    "    Y = image.img_to_array(img1)\n",
    "    \n",
    "    X = np.expand_dims(Y,axis=0)\n",
    "    val = model.predict(X)\n",
    "    print(val)\n",
    "    if val == 1:\n",
    "        \n",
    "        plt.xlabel(\"Duck\",fontsize=20)\n",
    "        \n",
    "    \n",
    "    elif val == 0:\n",
    "        \n",
    "        plt.xlabel(\"Bird\",fontsize=20)\n",
    "\n",
    "\n",
    "\"\"\""
   ]
  }
 ],
 "metadata": {
  "kernelspec": {
   "display_name": "Python 3",
   "language": "python",
   "name": "python3"
  },
  "language_info": {
   "codemirror_mode": {
    "name": "ipython",
    "version": 3
   },
   "file_extension": ".py",
   "mimetype": "text/x-python",
   "name": "python",
   "nbconvert_exporter": "python",
   "pygments_lexer": "ipython3",
   "version": "3.8.5"
  }
 },
 "nbformat": 4,
 "nbformat_minor": 4
}
