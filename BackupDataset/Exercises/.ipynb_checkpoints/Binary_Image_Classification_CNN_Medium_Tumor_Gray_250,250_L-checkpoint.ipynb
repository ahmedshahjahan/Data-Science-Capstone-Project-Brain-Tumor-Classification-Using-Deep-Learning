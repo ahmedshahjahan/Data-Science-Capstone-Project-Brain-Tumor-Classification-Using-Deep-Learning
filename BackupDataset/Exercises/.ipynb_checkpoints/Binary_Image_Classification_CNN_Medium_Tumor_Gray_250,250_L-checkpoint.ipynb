{
 "cells": [
  {
   "cell_type": "code",
   "execution_count": 1,
   "metadata": {},
   "outputs": [],
   "source": [
    "import tensorflow as tf\n",
    "import numpy as np\n",
    "from tensorflow import keras\n",
    "from tensorflow.keras.preprocessing.image import ImageDataGenerator\n",
    "from tensorflow.keras.preprocessing import image\n",
    "import matplotlib.pyplot as plt\n",
    "import matplotlib.pyplot as plt\n",
    "import pandas as pd\n",
    "import os, sys\n",
    "import cv2\n",
    "import PIL\n",
    "import time\n",
    "from skimage import color\n",
    "import os.path\n",
    "from PIL import Image, ImageOps"
   ]
  },
  {
   "cell_type": "code",
   "execution_count": 2,
   "metadata": {},
   "outputs": [],
   "source": [
    "cwd = os.getcwd()\n",
    "# os.listdir(cwd)"
   ]
  },
  {
   "cell_type": "code",
   "execution_count": 3,
   "metadata": {},
   "outputs": [],
   "source": [
    "training_paths = [\"./train_tumor/Tumor/\", \"./train_tumor3/NoTumor/\"]\n",
    "test_paths = [\"./test_tumor/Tumor/\", \"./test_tumor3/NoTumor/\"]"
   ]
  },
  {
   "cell_type": "code",
   "execution_count": 4,
   "metadata": {},
   "outputs": [],
   "source": [
    "# Resizing an saving the training images in same folder with same file name\n",
    "\n",
    "for path in training_paths:\n",
    "    for img_name in os.listdir(path):\n",
    "        f_img = path+img_name\n",
    "        img = Image.open(f_img)\n",
    "        #img_gray = ImageOps.grayscale(img)\n",
    "        img_gray = img.convert('L')\n",
    "        try:\n",
    "            img_gray = img_gray.resize((250,250), PIL.Image.ANTIALIAS)\n",
    "            img_gray.save(f_img, quality=95)\n",
    "        except ValueError:\n",
    "            print(\"There is something wrong\")"
   ]
  },
  {
   "cell_type": "code",
   "execution_count": 5,
   "metadata": {},
   "outputs": [],
   "source": [
    "# Resizing an saving the test images in same folder with same file name\n",
    "\n",
    "for path in test_paths:\n",
    "    for img_name in os.listdir(path):\n",
    "        f_img = path+img_name\n",
    "        img = Image.open(f_img)\n",
    "        #img_gray = ImageOps.grayscale(img)\n",
    "        img_gray = img.convert('L')\n",
    "        try:\n",
    "            img_gray = img_gray.resize((250,250), PIL.Image.ANTIALIAS)\n",
    "            img_gray.save(f_img, quality=95)\n",
    "        except ValueError:\n",
    "            print(\"There is something wrong\")"
   ]
  },
  {
   "cell_type": "code",
   "execution_count": 6,
   "metadata": {},
   "outputs": [
    {
     "name": "stdout",
     "output_type": "stream",
     "text": [
      "Found 88 images belonging to 2 classes.\n",
      "Found 22 images belonging to 2 classes.\n"
     ]
    }
   ],
   "source": [
    "train = ImageDataGenerator(rescale=1/255)\n",
    "test = ImageDataGenerator(rescale=1/255)\n",
    "\n",
    "train_dataset = train.flow_from_directory(\"train_tumor3\",\n",
    "                                          target_size=(250,250),\n",
    "                                          batch_size = 32,\n",
    "                                          class_mode = 'binary', color_mode=\"grayscale\")\n",
    "                                         \n",
    "\n",
    "test_dataset = test.flow_from_directory(\"test_tumor3\",\n",
    "                                          target_size=(250,250),\n",
    "                                          batch_size =32,\n",
    "                                          class_mode = 'binary', color_mode=\"grayscale\")"
   ]
  },
  {
   "cell_type": "code",
   "execution_count": 7,
   "metadata": {},
   "outputs": [
    {
     "data": {
      "text/plain": [
       "{'NoTumor': 0, 'Tumor': 1}"
      ]
     },
     "execution_count": 7,
     "metadata": {},
     "output_type": "execute_result"
    }
   ],
   "source": [
    "test_dataset.class_indices"
   ]
  },
  {
   "cell_type": "code",
   "execution_count": 8,
   "metadata": {},
   "outputs": [
    {
     "data": {
      "text/plain": [
       "{'NoTumor': 0, 'Tumor': 1}"
      ]
     },
     "execution_count": 8,
     "metadata": {},
     "output_type": "execute_result"
    }
   ],
   "source": [
    "train_dataset.class_indices"
   ]
  },
  {
   "cell_type": "code",
   "execution_count": 9,
   "metadata": {},
   "outputs": [],
   "source": [
    "model = keras.Sequential()\n",
    "\n",
    "# Convolutional layer and maxpool layer 1\n",
    "model.add(keras.layers.Conv2D(32,(3,3),activation='relu',input_shape=(250,250,1)))\n",
    "model.add(keras.layers.MaxPool2D(2,2))\n",
    "\n",
    "# Convolutional layer and maxpool layer 2\n",
    "model.add(keras.layers.Conv2D(64,(3,3),activation='relu'))\n",
    "model.add(keras.layers.MaxPool2D(2,2))\n",
    "\n",
    "# Convolutional layer and maxpool layer 3\n",
    "model.add(keras.layers.Conv2D(128,(3,3),activation='relu'))\n",
    "model.add(keras.layers.MaxPool2D(2,2))\n",
    "\n",
    "# Convolutional layer and maxpool layer 4\n",
    "model.add(keras.layers.Conv2D(128,(3,3),activation='relu'))\n",
    "model.add(keras.layers.MaxPool2D(2,2))\n",
    "\n",
    "# This layer flattens the resulting image array to 1D array\n",
    "model.add(keras.layers.Flatten())\n",
    "\n",
    "# Hidden layer with 512 neurons and Rectified Linear Unit activation function \n",
    "model.add(keras.layers.Dense(512,activation='relu'))\n",
    "\n",
    "# Output layer with single neuron which gives 0 for Cat or 1 for Dog \n",
    "#Here we use sigmoid activation function which makes our model output to lie between 0 and 1\n",
    "model.add(keras.layers.Dense(1,activation='sigmoid'))"
   ]
  },
  {
   "cell_type": "code",
   "execution_count": 10,
   "metadata": {},
   "outputs": [],
   "source": [
    "model.compile(optimizer='adam',loss='binary_crossentropy',metrics=['accuracy'])"
   ]
  },
  {
   "cell_type": "markdown",
   "metadata": {},
   "source": [
    "#steps_per_epoch = train_imagesize/batch_size\n",
    "\n",
    "start = time.time()\n",
    "\n",
    "model.fit(train_dataset, epochs = 30, batch_size=10, validation_data = 0.0\n",
    ")\n",
    "\n",
    "end = time.time() print(end - start)"
   ]
  },
  {
   "cell_type": "code",
   "execution_count": 11,
   "metadata": {
    "scrolled": false
   },
   "outputs": [
    {
     "name": "stdout",
     "output_type": "stream",
     "text": [
      "Epoch 1/10\n",
      "3/3 [==============================] - 4s 997ms/step - loss: 0.9116 - accuracy: 0.4432\n",
      "Epoch 2/10\n",
      "3/3 [==============================] - 3s 1s/step - loss: 0.6935 - accuracy: 0.5000\n",
      "Epoch 3/10\n",
      "3/3 [==============================] - 3s 1s/step - loss: 0.6297 - accuracy: 0.6818\n",
      "Epoch 4/10\n",
      "3/3 [==============================] - 3s 997ms/step - loss: 0.4823 - accuracy: 0.8295\n",
      "Epoch 5/10\n",
      "3/3 [==============================] - 3s 1s/step - loss: 0.2979 - accuracy: 0.8864\n",
      "Epoch 6/10\n",
      "3/3 [==============================] - 3s 980ms/step - loss: 0.2327 - accuracy: 0.9205\n",
      "Epoch 7/10\n",
      "3/3 [==============================] - 3s 969ms/step - loss: 0.2690 - accuracy: 0.8977\n",
      "Epoch 8/10\n",
      "3/3 [==============================] - 3s 1s/step - loss: 0.1763 - accuracy: 0.9318\n",
      "Epoch 9/10\n",
      "3/3 [==============================] - 3s 978ms/step - loss: 0.1806 - accuracy: 0.9432\n",
      "Epoch 10/10\n",
      "3/3 [==============================] - 3s 1s/step - loss: 0.1494 - accuracy: 0.9659\n",
      "1/1 [==============================] - 0s 338ms/step - loss: 0.3293 - accuracy: 0.8636\n",
      "Epoch 1/10\n",
      "3/3 [==============================] - 3s 971ms/step - loss: 0.1108 - accuracy: 0.9545\n",
      "Epoch 2/10\n",
      "3/3 [==============================] - 3s 976ms/step - loss: 0.0944 - accuracy: 0.9773\n",
      "Epoch 3/10\n",
      "3/3 [==============================] - 3s 1s/step - loss: 0.0535 - accuracy: 0.9659\n",
      "Epoch 4/10\n",
      "3/3 [==============================] - 3s 1s/step - loss: 0.0323 - accuracy: 0.9886\n",
      "Epoch 5/10\n",
      "3/3 [==============================] - 3s 980ms/step - loss: 0.0239 - accuracy: 0.9886\n",
      "Epoch 6/10\n",
      "3/3 [==============================] - 3s 981ms/step - loss: 0.0128 - accuracy: 1.0000\n",
      "Epoch 7/10\n",
      "3/3 [==============================] - 3s 978ms/step - loss: 0.0042 - accuracy: 1.0000\n",
      "Epoch 8/10\n",
      "3/3 [==============================] - 3s 1s/step - loss: 0.0016 - accuracy: 1.0000\n",
      "Epoch 9/10\n",
      "3/3 [==============================] - 4s 1s/step - loss: 5.6996e-04 - accuracy: 1.0000\n",
      "Epoch 10/10\n",
      "3/3 [==============================] - 3s 1s/step - loss: 4.6907e-04 - accuracy: 1.0000\n",
      "1/1 [==============================] - 0s 289ms/step - loss: 0.7410 - accuracy: 0.9091\n",
      "Epoch 1/10\n",
      "3/3 [==============================] - 3s 995ms/step - loss: 2.1756e-04 - accuracy: 1.0000\n",
      "Epoch 2/10\n",
      "3/3 [==============================] - 3s 975ms/step - loss: 1.2082e-04 - accuracy: 1.0000\n",
      "Epoch 3/10\n",
      "3/3 [==============================] - 3s 975ms/step - loss: 8.7342e-05 - accuracy: 1.0000\n",
      "Epoch 4/10\n",
      "3/3 [==============================] - 3s 1s/step - loss: 5.5096e-05 - accuracy: 1.0000\n",
      "Epoch 5/10\n",
      "3/3 [==============================] - 3s 1s/step - loss: 3.9279e-05 - accuracy: 1.0000\n",
      "Epoch 6/10\n",
      "3/3 [==============================] - 3s 965ms/step - loss: 2.8342e-05 - accuracy: 1.0000\n",
      "Epoch 7/10\n",
      "3/3 [==============================] - 3s 1s/step - loss: 2.1904e-05 - accuracy: 1.0000\n",
      "Epoch 8/10\n",
      "3/3 [==============================] - 3s 1s/step - loss: 1.6973e-05 - accuracy: 1.0000\n",
      "Epoch 9/10\n",
      "3/3 [==============================] - 3s 1s/step - loss: 1.3839e-05 - accuracy: 1.0000\n",
      "Epoch 10/10\n",
      "3/3 [==============================] - 3s 1s/step - loss: 1.1619e-05 - accuracy: 1.0000\n",
      "1/1 [==============================] - 0s 243ms/step - loss: 1.0199 - accuracy: 0.9091\n",
      "98.64041352272034\n"
     ]
    }
   ],
   "source": [
    "#steps_per_epoch = train_imagesize/batch_size\n",
    "result = 0\n",
    "model_250 = []\n",
    "start = time.time()\n",
    "for i in range(5):\n",
    "    model.fit(train_dataset,\n",
    "             epochs = 10, batch_size=10,\n",
    "             validation_data = 0.0  \n",
    "             )\n",
    "    result = model.evaluate(test_dataset)\n",
    "    model_250.append(result[1])\n",
    "end = time.time()\n",
    "print(end - start)"
   ]
  },
  {
   "cell_type": "code",
   "execution_count": 12,
   "metadata": {},
   "outputs": [
    {
     "name": "stdout",
     "output_type": "stream",
     "text": [
      "[0.8636363744735718, 0.9090909361839294, 0.9090909361839294]\n",
      "0.8939394156138102\n"
     ]
    }
   ],
   "source": [
    "print(model_250)\n",
    "print(np.mean(model_250))"
   ]
  },
  {
   "cell_type": "code",
   "execution_count": null,
   "metadata": {},
   "outputs": [],
   "source": []
  },
  {
   "cell_type": "code",
   "execution_count": 13,
   "metadata": {},
   "outputs": [
    {
     "name": "stdout",
     "output_type": "stream",
     "text": [
      "1/1 [==============================] - 0s 253ms/step - loss: 1.0199 - accuracy: 0.9091\n"
     ]
    }
   ],
   "source": [
    "result = model.evaluate(test_dataset)"
   ]
  },
  {
   "cell_type": "code",
   "execution_count": null,
   "metadata": {},
   "outputs": [],
   "source": []
  },
  {
   "cell_type": "code",
   "execution_count": 14,
   "metadata": {},
   "outputs": [
    {
     "data": {
      "text/plain": [
       "'\\n\\n#steps_per_epoch = train_imagesize/batch_size\\n\\nmodel.fit_generator(train_dataset,\\n         steps_per_epoch = 250,\\n         epochs = 10,\\n         validation_data = test_dataset\\n       \\n         )\\n         \\n'"
      ]
     },
     "execution_count": 14,
     "metadata": {},
     "output_type": "execute_result"
    }
   ],
   "source": [
    "\"\"\"\n",
    "\n",
    "#steps_per_epoch = train_imagesize/batch_size\n",
    "\n",
    "model.fit_generator(train_dataset,\n",
    "         steps_per_epoch = 250,\n",
    "         epochs = 10,\n",
    "         validation_data = test_dataset\n",
    "       \n",
    "         )\n",
    "         \n",
    "\"\"\""
   ]
  },
  {
   "cell_type": "code",
   "execution_count": 15,
   "metadata": {
    "scrolled": true
   },
   "outputs": [
    {
     "data": {
      "text/plain": [
       "'\\n\\n# Manually Predicting \\ntest_path = \\'../test_tumor\\'\\nTumor=0\\nNoTumor=0\\nfor i in os.listdir(test_path):\\n    img = image.load_img(test_path + \"//\" +i, target_size=(512,512,3))\\n    plt.imshow(img)\\n    plt.show()\\n    X = image.img_to_array(img)\\n    X = np.expand_dims(X, axis=0)\\n    images = np.vstack([X])\\n    val = model.predict(images)\\n    if val == 0:\\n        NoTumor +=1\\n        print(\\'NoTumor\\')\\n    else:\\n        Tumor +=1\\n        print(\\'Tumor\\')\\nprint(f\\'Tumor: {Tumor}, NoTumor: {NoTumor}\\')\\n\\n\\n'"
      ]
     },
     "execution_count": 15,
     "metadata": {},
     "output_type": "execute_result"
    }
   ],
   "source": [
    "\"\"\"\n",
    "\n",
    "# Manually Predicting \n",
    "test_path = '../test_tumor'\n",
    "Tumor=0\n",
    "NoTumor=0\n",
    "for i in os.listdir(test_path):\n",
    "    img = image.load_img(test_path + \"//\" +i, target_size=(512,512,3))\n",
    "    plt.imshow(img)\n",
    "    plt.show()\n",
    "    X = image.img_to_array(img)\n",
    "    X = np.expand_dims(X, axis=0)\n",
    "    images = np.vstack([X])\n",
    "    val = model.predict(images)\n",
    "    if val == 0:\n",
    "        NoTumor +=1\n",
    "        print('NoTumor')\n",
    "    else:\n",
    "        Tumor +=1\n",
    "        print('Tumor')\n",
    "print(f'Tumor: {Tumor}, NoTumor: {NoTumor}')\n",
    "\n",
    "\n",
    "\"\"\""
   ]
  },
  {
   "cell_type": "code",
   "execution_count": 16,
   "metadata": {},
   "outputs": [
    {
     "data": {
      "text/plain": [
       "'\\n\\ndef predictImage(filename):\\n    img1 = image.load_img(filename,target_size=(224,224))\\n    \\n    plt.imshow(img1)\\n \\n    Y = image.img_to_array(img1)\\n    \\n    X = np.expand_dims(Y,axis=0)\\n    val = model.predict(X)\\n    print(val)\\n    if val == 1:\\n        \\n        plt.xlabel(\"Duck\",fontsize=20)\\n        \\n    \\n    elif val == 0:\\n        \\n        plt.xlabel(\"Bird\",fontsize=20)\\n\\n\\n'"
      ]
     },
     "execution_count": 16,
     "metadata": {},
     "output_type": "execute_result"
    }
   ],
   "source": [
    "\"\"\"\n",
    "\n",
    "def predictImage(filename):\n",
    "    img1 = image.load_img(filename,target_size=(224,224))\n",
    "    \n",
    "    plt.imshow(img1)\n",
    " \n",
    "    Y = image.img_to_array(img1)\n",
    "    \n",
    "    X = np.expand_dims(Y,axis=0)\n",
    "    val = model.predict(X)\n",
    "    print(val)\n",
    "    if val == 1:\n",
    "        \n",
    "        plt.xlabel(\"Duck\",fontsize=20)\n",
    "        \n",
    "    \n",
    "    elif val == 0:\n",
    "        \n",
    "        plt.xlabel(\"Bird\",fontsize=20)\n",
    "\n",
    "\n",
    "\"\"\""
   ]
  }
 ],
 "metadata": {
  "kernelspec": {
   "display_name": "Python 3",
   "language": "python",
   "name": "python3"
  },
  "language_info": {
   "codemirror_mode": {
    "name": "ipython",
    "version": 3
   },
   "file_extension": ".py",
   "mimetype": "text/x-python",
   "name": "python",
   "nbconvert_exporter": "python",
   "pygments_lexer": "ipython3",
   "version": "3.8.5"
  }
 },
 "nbformat": 4,
 "nbformat_minor": 4
}
